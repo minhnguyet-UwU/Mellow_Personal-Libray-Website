{
 "cells": [
  {
   "cell_type": "code",
   "execution_count": 2,
   "metadata": {},
   "outputs": [
    {
     "data": {
      "application/javascript": "if (window.IPython && IPython.notebook.kernel) IPython.notebook.kernel.execute('jovian.utils.jupyter.get_notebook_name_saved = lambda: \"' + IPython.notebook.notebook_name + '\"')",
      "text/plain": [
       "<IPython.core.display.Javascript object>"
      ]
     },
     "metadata": {},
     "output_type": "display_data"
    }
   ],
   "source": [
    "import jovian\n",
    "import requests\n",
    "from bs4 import BeautifulSoup\n",
    "import pandas as pd\n",
    "from PIL import Image\n",
    "from pytesseract import pytesseract\n",
    "from collections import defaultdict"
   ]
  },
  {
   "cell_type": "code",
   "execution_count": 3,
   "metadata": {},
   "outputs": [],
   "source": [
    "# download the web page using requests\n",
    "series_info = 'https://www.goodreads.com/series/73758-the-hunger-games134038899'\n",
    "header = {'User_Agent': 'Mozilla/5.0 (Windows NT 10.0; WOW64) AppleWebKit/537.36 (KHTML, like Gecko) Chrome/117.0.0.0 Safari/537.36'}\n",
    "response = requests.get(series_info,headers=header)\n",
    "\n",
    "# capture the text content of the page from response\n",
    "page_contents = response.text"
   ]
  },
  {
   "cell_type": "code",
   "execution_count": 4,
   "metadata": {},
   "outputs": [],
   "source": [
    "# Save the page as html to avoid scrapping multiple times while experimenting\n",
    "with open('series.html', 'w', encoding=\"utf-8\") as f:\n",
    "    f.write(page_contents)\n",
    "\n",
    "# read it html page to scrape information\n",
    "with open('series.html', 'r', encoding=\"utf-8\") as f:\n",
    "    html_source = f.read()\n",
    "\n",
    "# The BeautifulSoup returns a document which we shall use to extract information\n",
    "doc_series = BeautifulSoup(html_source, 'html.parser')"
   ]
  },
  {
   "cell_type": "code",
   "execution_count": 5,
   "metadata": {},
   "outputs": [],
   "source": [
    "keyList = [\"Name\",\n",
    "            \"Information\"]"
   ]
  },
  {
   "cell_type": "code",
   "execution_count": 6,
   "metadata": {},
   "outputs": [],
   "source": [
    "allSeries = []\n",
    "series = {key: None for key in keyList}"
   ]
  },
  {
   "cell_type": "code",
   "execution_count": 27,
   "metadata": {},
   "outputs": [
    {
     "data": {
      "text/plain": [
       "'The Hunger Games '"
      ]
     },
     "execution_count": 27,
     "metadata": {},
     "output_type": "execute_result"
    }
   ],
   "source": [
    "name = doc_series.find('div', class_='responsiveSeriesHeader__title')\n",
    "name = name.text.strip('Series')\n",
    "series['Name'] = name\n",
    "series['Name']"
   ]
  },
  {
   "cell_type": "code",
   "execution_count": 38,
   "metadata": {},
   "outputs": [
    {
     "data": {
      "text/plain": [
       "'The thrilling trilogy expertly described by Suzanne Collins. You enter a future world where every year two tributes from each district are thrown into an arena expected to fight to the death or get knocked out by other means. Only one can survive.Also see: The Hunger Games Companion booksSeries also known as:* Die Tribute von Panem [German]* Nälkäp…More'"
      ]
     },
     "execution_count": 38,
     "metadata": {},
     "output_type": "execute_result"
    }
   ],
   "source": [
    "information = doc_series.find_all('div', attrs={'class':'u-paddingBottomSmall'})\n",
    "series['Information'] = information[1].text.strip()\n",
    "series['Information']"
   ]
  }
 ],
 "metadata": {
  "kernelspec": {
   "display_name": "Python 3",
   "language": "python",
   "name": "python3"
  },
  "language_info": {
   "codemirror_mode": {
    "name": "ipython",
    "version": 3
   },
   "file_extension": ".py",
   "mimetype": "text/x-python",
   "name": "python",
   "nbconvert_exporter": "python",
   "pygments_lexer": "ipython3",
   "version": "3.11.0"
  }
 },
 "nbformat": 4,
 "nbformat_minor": 2
}
