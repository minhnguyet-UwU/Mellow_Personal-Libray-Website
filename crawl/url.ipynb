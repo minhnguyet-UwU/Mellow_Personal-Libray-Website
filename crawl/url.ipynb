{
 "cells": [
  {
   "cell_type": "code",
   "execution_count": 1,
   "metadata": {},
   "outputs": [
    {
     "data": {
      "application/javascript": "if (window.IPython && IPython.notebook.kernel) IPython.notebook.kernel.execute('jovian.utils.jupyter.get_notebook_name_saved = lambda: \"' + IPython.notebook.notebook_name + '\"')",
      "text/plain": [
       "<IPython.core.display.Javascript object>"
      ]
     },
     "metadata": {},
     "output_type": "display_data"
    }
   ],
   "source": [
    "import jovian\n",
    "import requests\n",
    "from bs4 import BeautifulSoup\n",
    "import pandas as pd\n",
    "from PIL import Image\n",
    "from pytesseract import pytesseract\n",
    "from collections import defaultdict"
   ]
  },
  {
   "cell_type": "code",
   "execution_count": 2,
   "metadata": {},
   "outputs": [],
   "source": [
    "header = {'User_Agent': 'Mozilla/5.0 (Windows NT 10.0; WOW64) AppleWebKit/537.36 (KHTML, like Gecko) Chrome/117.0.0.0 Safari/537.36'}\n",
    "linksFile = open('links.txt', \"w\")\n",
    "for count in range(1, 11):\n",
    "    if count == 1:\n",
    "        link_info = 'https://www.goodreads.com/list/show/1.Best_Books_Ever'\n",
    "        response = requests.get(link_info, headers=header)\n",
    "    else: \n",
    "        link_info = 'https://www.goodreads.com/list/show/1.Best_Books_Ever'+'?page='+str(count)\n",
    "        response = requests.get(link_info, headers=header)\n",
    "\n",
    "    page_contents = response.text\n",
    "\n",
    "    with open('links.html', 'w', encoding=\"utf-8\") as f:\n",
    "        f.write(page_contents)\n",
    "\n",
    "    # read it html page to scrape information\n",
    "    with open('links.html', 'r', encoding=\"utf-8\") as f:\n",
    "        html_source = f.read()\n",
    "\n",
    "    # The BeautifulSoup returns a document which we shall use to extract information\n",
    "    doc_links = BeautifulSoup(html_source, 'html.parser')\n",
    "\n",
    "    links = doc_links.find_all('a', class_='bookTitle')\n",
    "    for i in links:\n",
    "        link = 'https://www.goodreads.com' + i.get('href')\n",
    "        linksFile.write(link+\"\\n\")\n",
    "linksFile.close()"
   ]
  }
 ],
 "metadata": {
  "kernelspec": {
   "display_name": "Python 3",
   "language": "python",
   "name": "python3"
  },
  "language_info": {
   "codemirror_mode": {
    "name": "ipython",
    "version": 3
   },
   "file_extension": ".py",
   "mimetype": "text/x-python",
   "name": "python",
   "nbconvert_exporter": "python",
   "pygments_lexer": "ipython3",
   "version": "3.11.0"
  }
 },
 "nbformat": 4,
 "nbformat_minor": 2
}
