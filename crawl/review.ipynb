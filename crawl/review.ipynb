{
 "cells": [
  {
   "cell_type": "code",
   "execution_count": 39,
   "metadata": {},
   "outputs": [],
   "source": [
    "import jovian\n",
    "import requests\n",
    "from bs4 import BeautifulSoup\n",
    "import pandas as pd\n",
    "from PIL import Image\n",
    "from pytesseract import pytesseract\n",
    "from collections import defaultdict"
   ]
  },
  {
   "cell_type": "code",
   "execution_count": 40,
   "metadata": {},
   "outputs": [],
   "source": [
    "# download the web page using requests\n",
    "review_info = 'https://www.goodreads.com/review/show/134038899'\n",
    "header = {'User_Agent': 'Mozilla/5.0 (Windows NT 10.0; WOW64) AppleWebKit/537.36 (KHTML, like Gecko) Chrome/117.0.0.0 Safari/537.36'}\n",
    "response = requests.get(review_info,headers=header)\n",
    "\n",
    "# capture the text content of the page from response\n",
    "page_contents = response.text"
   ]
  },
  {
   "cell_type": "code",
   "execution_count": 41,
   "metadata": {},
   "outputs": [],
   "source": [
    "# Save the page as html to avoid scrapping multiple times while experimenting\n",
    "with open('review.html', 'w', encoding=\"utf-8\") as f:\n",
    "    f.write(page_contents)\n",
    "\n",
    "# read it html page to scrape information\n",
    "with open('review.html', 'r', encoding=\"utf-8\") as f:\n",
    "    html_source = f.read()\n",
    "\n",
    "# The BeautifulSoup returns a document which we shall use to extract information\n",
    "doc_review = BeautifulSoup(html_source, 'html.parser')"
   ]
  },
  {
   "cell_type": "code",
   "execution_count": 42,
   "metadata": {},
   "outputs": [],
   "source": [
    "keyList = [\"Username\",\n",
    "            \"Book\",\n",
    "            \"Date\",\n",
    "            \"Rating\",\n",
    "            \"Comment\"]"
   ]
  },
  {
   "cell_type": "code",
   "execution_count": 43,
   "metadata": {},
   "outputs": [],
   "source": [
    "reviews = []\n",
    "review = {key: None for key in keyList}"
   ]
  },
  {
   "cell_type": "code",
   "execution_count": 44,
   "metadata": {},
   "outputs": [
    {
     "name": "stdout",
     "output_type": "stream",
     "text": [
      "The Hunger Games \n"
     ]
    }
   ],
   "source": [
    "book_name = doc_review.find('a', class_='bookTitle')\n",
    "review['Book'] = book_name.text.strip().split('(')[0]\n",
    "print(review['Book'])"
   ]
  },
  {
   "cell_type": "code",
   "execution_count": 45,
   "metadata": {},
   "outputs": [
    {
     "data": {
      "text/plain": [
       "'Nataliya'"
      ]
     },
     "execution_count": 45,
     "metadata": {},
     "output_type": "execute_result"
    }
   ],
   "source": [
    "username = doc_review.find('a', class_='userReview')\n",
    "review['Username'] = username.text.strip()\n",
    "review['Username']"
   ]
  },
  {
   "cell_type": "code",
   "execution_count": 46,
   "metadata": {},
   "outputs": [
    {
     "data": {
      "text/plain": [
       "'Dec 07, 2010'"
      ]
     },
     "execution_count": 46,
     "metadata": {},
     "output_type": "execute_result"
    }
   ],
   "source": [
    "date = doc_review.find('span', attrs={'itemprop':'datePublished'})\n",
    "review['Date'] = date.text.strip()\n",
    "review['Date']"
   ]
  },
  {
   "cell_type": "code",
   "execution_count": 47,
   "metadata": {},
   "outputs": [
    {
     "data": {
      "text/plain": [
       "'4'"
      ]
     },
     "execution_count": 47,
     "metadata": {},
     "output_type": "execute_result"
    }
   ],
   "source": [
    "star = doc_review.find('meta', attrs={'itemprop':'ratingValue'})\n",
    "review['Rating'] = star.get('content')\n",
    "review['Rating']"
   ]
  },
  {
   "cell_type": "code",
   "execution_count": 48,
   "metadata": {},
   "outputs": [
    {
     "data": {
      "text/plain": [
       "'Suzanne Collins has balls ovaries of steel to make us willingly cheer for a teenage girl to kill other children. In a YA book. Two reasons why this book rocks: (a) It is not Twilight, and (b) I really hate reality shows.  \\nSeriously, how long would it take for reality shows to evolve from \"Survivor\" to \"Hunger Games\"? \\nYes, this book is full of imperfections. It often requires a strenuous suspension of disbelief. It can cause a painful amount of eye-rolling and shaking fist at the book pages. Its style is choppy and the first-person present tense gets annoying. The story is simple, and the message is heavy-handed. But is does set a better example for young impressionable pre-teens than gushing stories about sparkly co-dependency. And here is an obligatory taken out of contest Twilight-bashing quote: \\n“But just the fact that he was sparkling leads me to doubt everything that happened.” \\n So why did I add it to my to-read list for my future (hypothetical) daughter? Because Katniss is cool and a badass. She is fierce, independent, resourceful, intelligent, and skilled. She is loyal to her friends and family. She is a survivor. She will never allow a guy to carry her around as though she is a delicate flower. She skewers that apple in the pig\\'s mouth with an arrow in front of the Gamemakers in the most awesome way imaginable. For all that, I love this imperfect, surly, prickly, sullen and perpetually pissed-off, quick to jump to judgment, and sometimes clueless girl.  And I love this book because - despite The Hunger Games being YA literature that seems to hinge on the romantic puppy love - the happiness of Katniss does not revolve solely around a cute male lead. Yes, there is a (hated) love triangle here *eyeroll* but there are other issues that occupy Katniss\\' mind - such as the survival of her friends, family, and herself rather than just pining over a cute boy. (*)\\n * Unlike other so-called \"books\", where a boyfriend of a few months dumping you is a valid reason for catatonia and almost-suicide.(**)** And yet we still get readers who divide themselves into the incredibly annoying \"Team Peeta\" and \"Team Gale\". (***)*** Because clearly nothing else ever matters besides sappy love - in a book about children murdering each other. *eyeroll* \\n\\n Now, here is what bugged me about the romance that DID make it into the book. There is actually a LOST OPPORTUNITY here to have a YA book where people CAN be just friends, where devotion and loyalty stem from friendship and respect and not from attraction.  Katniss and Peeta could have had plenty of other reasons to care for each other that don\\'t include puppy love - they are from the same district, same school, he gave her that bread, she trades with his dad, etc. But alas, that did not happen. I understand that Collins had to cater to the way that YA publishers and Hollywood tend to view us, the female audience. At least Katniss escapes the perils of insta-love. But poor Peeta - all of his actions are colored by him being \"Lover Boy\", and I think it detracts from his personality and reduces him from a kind compassionate person to a fool in love who\\'d do anything for Katniss only because of his physical attraction to her. Yeah......Rue...Oh, Rue... Now, back to the GOOD. Rue, my favorite character. Little, fragile, almost-too-perfect Rue who was clearly doomed from the start. Who despite her appearance was neither weak nor helpless. Whose (view spoiler)[death scene (hide spoiler)] brought the human side to Katniss (who, until that point, was almost bordering on robotic). There was real grief and anger and sadness in that scene, and from that point on I began to care. Suzanne Collins strictly follows the \"show, don\\'t tell\" rule. (Actually, she does it to such an extent that the book reads almost like a screenplay.) The plot moves along at a fast pace, only slowing down a bit in the drawn out Capitol makeover and cave makeout sessions. Collins does not shy away from gruesome scenes, making many parts of the book hit home.----------I enjoyed it despite the imperfections. Katniss easily beats the majority of the popular YA heroines. And because of all her coolness, this gets 3.75 stars. \\n\"Exactly how am I supposed to work in a thank-you in there? Somehow it just won\\'t seem sincere if I\\'m trying to slit his throat.\" \\n-----------------------------------------\\nEDITED TO ADD:\\n So I saw the movie today. All I have to say - Suzanne Collins may have given life to Katniss, but Jennifer Lawrence definitely gave her heart. Lawrence\\'s Katniss has such emotional depth, and she brings such truthfulness to her character. Excellent adaptation with a great balance of tugging on the heartstrings and darkness. I CRIED TWICE (yes, apparently I am less of a cynic than I thought). First time - when Katniss volunteers for Prim and people salute her. I JUST CHOKED UP. It felt so real. I have a brother who is much younger than me, and all I could think at that moment was how I would do the exact same thing for him WITHOUT ANY HESITATION. It wouldn\\'t even be a choice. Just like it wasn\\'t for Katniss. *Sob* The second time I teared up - Rue. Oh Rue... And the salute from District 11 - so powerful and so touching. I...I...I just can\\'t... PLEASE EXCUSE ME WHILE I GO AND GRAB A BOX OF TISSUES. OR TWO. OR TEN. *SOB*'"
      ]
     },
     "execution_count": 48,
     "metadata": {},
     "output_type": "execute_result"
    }
   ],
   "source": [
    "comment = doc_review.find('div', attrs={'itemprop':'reviewBody'})\n",
    "for br in comment.select(\"br\"):\n",
    "    br.replace_with(\"\\n\")\n",
    "review['Comment'] = comment.text.strip()\n",
    "review['Comment']"
   ]
  }
 ],
 "metadata": {
  "kernelspec": {
   "display_name": "Python 3",
   "language": "python",
   "name": "python3"
  },
  "language_info": {
   "codemirror_mode": {
    "name": "ipython",
    "version": 3
   },
   "file_extension": ".py",
   "mimetype": "text/x-python",
   "name": "python",
   "nbconvert_exporter": "python",
   "pygments_lexer": "ipython3",
   "version": "3.11.0"
  }
 },
 "nbformat": 4,
 "nbformat_minor": 2
}
