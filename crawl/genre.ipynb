{
 "cells": [
  {
   "cell_type": "code",
   "execution_count": 46,
   "metadata": {},
   "outputs": [],
   "source": [
    "import jovian\n",
    "import requests\n",
    "from bs4 import BeautifulSoup\n",
    "import pandas as pd\n",
    "from PIL import Image\n",
    "from pytesseract import pytesseract\n",
    "from collections import defaultdict"
   ]
  },
  {
   "cell_type": "code",
   "execution_count": 47,
   "metadata": {},
   "outputs": [],
   "source": [
    "# download the web page using requests\n",
    "genre_info = 'https://www.goodreads.com/genres/science-fiction'\n",
    "header = {'User_Agent': 'Mozilla/5.0 (Windows NT 10.0; WOW64) AppleWebKit/537.36 (KHTML, like Gecko) Chrome/117.0.0.0 Safari/537.36'}\n",
    "response = requests.get(genre_info,headers=header)\n",
    "\n",
    "# capture the text content of the page from response\n",
    "page_contents = response.text"
   ]
  },
  {
   "cell_type": "code",
   "execution_count": 48,
   "metadata": {},
   "outputs": [],
   "source": [
    "# Save the page as html to avoid scrapping multiple times while experimenting\n",
    "with open('genre.html', 'w', encoding=\"utf-8\") as f:\n",
    "    f.write(page_contents)\n",
    "\n",
    "# read it html page to scrape information\n",
    "with open('genre.html', 'r', encoding=\"utf-8\") as f:\n",
    "    html_source = f.read()\n",
    "\n",
    "# The BeautifulSoup returns a document which we shall use to extract information\n",
    "doc_genre = BeautifulSoup(html_source, 'html.parser')"
   ]
  },
  {
   "cell_type": "code",
   "execution_count": 49,
   "metadata": {},
   "outputs": [],
   "source": [
    "keyList = [\"Name\",\n",
    "            \"Details\"]"
   ]
  },
  {
   "cell_type": "code",
   "execution_count": 50,
   "metadata": {},
   "outputs": [],
   "source": [
    "genres = []\n",
    "genre = {key: None for key in keyList}"
   ]
  },
  {
   "cell_type": "code",
   "execution_count": 51,
   "metadata": {},
   "outputs": [
    {
     "data": {
      "text/plain": [
       "'Science Fiction'"
      ]
     },
     "execution_count": 51,
     "metadata": {},
     "output_type": "execute_result"
    }
   ],
   "source": [
    "name = doc_genre.find('div', class_='genreHeader')\n",
    "genre['Name']= name.text.strip()\n",
    "genre['Name']"
   ]
  },
  {
   "cell_type": "code",
   "execution_count": 52,
   "metadata": {},
   "outputs": [],
   "source": [
    "genre['Details'] = None"
   ]
  },
  {
   "cell_type": "code",
   "execution_count": 53,
   "metadata": {},
   "outputs": [
    {
     "data": {
      "text/plain": [
       "'Science fiction (abbreviated SF or sci-fi with varying punctuation and capitalization) is a broad genre of fiction that often involves speculations based on current or future science or technology. Science fiction is found in books, art, television, films, games, theatre, and other media. In organizational or marketing contexts, science fiction can be synonymous with the broader definition of speculative fiction, encompassing creative works incorporating imaginative elements not found in contemporary reality; this includes fantasy, horror and related genres.Although the two genres are often conflated as science fiction/fantasy, science fiction differs from fantasy in that, within the context of the story, its imaginary elements are largely possible within scientifically established or scientifically postulated laws of nature (though some elements in a story might still be pure imaginative speculation). Exploring the consequences of such differences is the traditional purpose of science fiction, making it a \"literature of ideas\". Science fantasy is largely based on writing entertainingly and rationally about alternate possibilities in settings that are contrary to known reality.'"
      ]
     },
     "execution_count": 53,
     "metadata": {},
     "output_type": "execute_result"
    }
   ],
   "source": [
    "details = doc_genre.find('div', class_='mediumText reviewText')\n",
    "for br in details.select(\"br\"):\n",
    "    br.replace_with(\"\\n\")\n",
    "content = details.find('span', attrs={'style':'display:none'})\n",
    "if content is None:\n",
    "    genre['Details'] = details.text.strip()\n",
    "else:\n",
    "    genre['Details'] = content.text.strip()\n",
    "genre['Details']"
   ]
  }
 ],
 "metadata": {
  "kernelspec": {
   "display_name": "Python 3",
   "language": "python",
   "name": "python3"
  },
  "language_info": {
   "codemirror_mode": {
    "name": "ipython",
    "version": 3
   },
   "file_extension": ".py",
   "mimetype": "text/x-python",
   "name": "python",
   "nbconvert_exporter": "python",
   "pygments_lexer": "ipython3",
   "version": "3.11.0"
  }
 },
 "nbformat": 4,
 "nbformat_minor": 2
}
