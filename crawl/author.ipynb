{
 "cells": [
  {
   "cell_type": "code",
   "execution_count": 1,
   "metadata": {},
   "outputs": [
    {
     "data": {
      "application/javascript": "if (window.IPython && IPython.notebook.kernel) IPython.notebook.kernel.execute('jovian.utils.jupyter.get_notebook_name_saved = lambda: \"' + IPython.notebook.notebook_name + '\"')",
      "text/plain": [
       "<IPython.core.display.Javascript object>"
      ]
     },
     "metadata": {},
     "output_type": "display_data"
    }
   ],
   "source": [
    "import jovian\n",
    "import requests\n",
    "from bs4 import BeautifulSoup\n",
    "import pandas as pd\n",
    "from PIL import Image\n",
    "from pytesseract import pytesseract\n",
    "from collections import defaultdict"
   ]
  },
  {
   "cell_type": "code",
   "execution_count": 2,
   "metadata": {},
   "outputs": [],
   "source": [
    "author_info = 'https://www.goodreads.com/author/show/153394.Suzanne_Collins'"
   ]
  },
  {
   "cell_type": "code",
   "execution_count": 3,
   "metadata": {},
   "outputs": [],
   "source": [
    "header = {'User_Agent': 'Mozilla/5.0 (Windows NT 10.0; WOW64) AppleWebKit/537.36 (KHTML, like Gecko) Chrome/117.0.0.0 Safari/537.36'}\n",
    "response_author = requests.get(author_info,headers=header)\n",
    "\n",
    "# capture the text content of the page from response\n",
    "page_contents = response_author.text"
   ]
  },
  {
   "cell_type": "code",
   "execution_count": 4,
   "metadata": {},
   "outputs": [],
   "source": [
    "# Save the page as html to avoid scrapping multiple times while experimenting\n",
    "with open('author.html', 'w', encoding=\"utf-8\") as file:\n",
    "    file.write(page_contents)\n",
    "\n",
    "# read it html page to scrape information\n",
    "with open('author.html', 'r', encoding=\"utf-8\") as file:\n",
    "    html_source = file.read()\n",
    "\n",
    "# The BeautifulSoup returns a document which we shall use to extract information\n",
    "doc_author = BeautifulSoup(html_source, 'html.parser')"
   ]
  },
  {
   "cell_type": "code",
   "execution_count": 5,
   "metadata": {},
   "outputs": [],
   "source": [
    "authorList = [\"Name\",\n",
    "            \"Born\",\n",
    "            \"Died\",\n",
    "            \"Hometown\",\n",
    "            \"Biography\",\n",
    "            \"Image\",\n",
    "            \"Genre\",\n",
    "            \"Website\",\n",
    "            \"Influences\",  \n",
    "            \"Rating\",\n",
    "            \"Rating_count\",\n",
    "            \"Review_count\",\n",
    "            \"Works\",          \n",
    "            \"Typical_series\"\n",
    "]"
   ]
  },
  {
   "cell_type": "code",
   "execution_count": 6,
   "metadata": {},
   "outputs": [],
   "source": [
    "author = {key:None for key in authorList}"
   ]
  },
  {
   "cell_type": "code",
   "execution_count": 7,
   "metadata": {},
   "outputs": [
    {
     "data": {
      "text/plain": [
       "'Suzanne Collins'"
      ]
     },
     "execution_count": 7,
     "metadata": {},
     "output_type": "execute_result"
    }
   ],
   "source": [
    "authorName = doc_author.find('h1', class_='authorName')\n",
    "author['Name'] = authorName.text.strip()\n",
    "author['Name']"
   ]
  },
  {
   "cell_type": "code",
   "execution_count": 8,
   "metadata": {},
   "outputs": [
    {
     "data": {
      "text/plain": [
       "'in  Hartford, Connecticut, The United States'"
      ]
     },
     "execution_count": 8,
     "metadata": {},
     "output_type": "execute_result"
    }
   ],
   "source": [
    "author_hometown = doc_author.find('div', class_='dataTitle').next_sibling\n",
    "author['Hometown'] = author_hometown.text.strip()\n",
    "author['Hometown']"
   ]
  },
  {
   "cell_type": "code",
   "execution_count": 9,
   "metadata": {},
   "outputs": [],
   "source": [
    "data = doc_author.find_all('div', class_='dataTitle')\n",
    "for i in data:\n",
    "    info = i.text.strip()\n",
    "   \n",
    "    if info == 'Website':\n",
    "        i = i.find_next_sibling('div')     \n",
    "        author[info] = i.find('a').get('href')\n",
    "    elif info == 'Influences':\n",
    "        i = i.find_next_sibling('div').find('span', attrs={'style':'display:none'}) \n",
    "        author[info] = i.text.strip()\n",
    "    else:\n",
    "        i = i.find_next_sibling('div')\n",
    "        attr = i['class']     \n",
    "        if attr == ['dataItem']:    \n",
    "            author[info] = i.text.strip()\n",
    "    "
   ]
  },
  {
   "cell_type": "code",
   "execution_count": 10,
   "metadata": {},
   "outputs": [
    {
     "data": {
      "text/plain": [
       "'https://images.gr-assets.com/authors/1630199330p5/153394.jpg'"
      ]
     },
     "execution_count": 10,
     "metadata": {},
     "output_type": "execute_result"
    }
   ],
   "source": [
    "author_img = doc_author.find('div', class_='leftContainer authorLeftContainer')\n",
    "author['Image'] = author_img.find('img').get('src')\n",
    "author['Image']"
   ]
  },
  {
   "cell_type": "code",
   "execution_count": 11,
   "metadata": {},
   "outputs": [],
   "source": [
    "author_info = doc_author.find('div', class_='aboutAuthorInfo').find('span')\n",
    "i = author_info.find('i')\n",
    "if i != None:\n",
    "    author_info.find('i').decompose()"
   ]
  },
  {
   "cell_type": "code",
   "execution_count": 12,
   "metadata": {},
   "outputs": [
    {
     "data": {
      "text/plain": [
       "'Since 1991, Suzanne Collins has been busy writing for children’s television. She has worked on the staffs of several Nickelodeon shows, including the Emmy-nominated hit Clarissa Explains it All and The Mystery Files of Shelby Woo. For preschool viewers, she penned multiple stories for the Emmy-nominated Little Bear and Oswald. She also co-wrote the critically acclaimed Rankin/Bass Christmas special, Santa, Baby! Most recently she was the Head Writer for Scholastic Entertainment’s Clifford’s Puppy Days.\\nWhile working on a Kids WB show called Generation O! she met children’s author James Proimos, who talked her into giving children’s books a try.\\nThinking one'"
      ]
     },
     "execution_count": 12,
     "metadata": {},
     "output_type": "execute_result"
    }
   ],
   "source": [
    "author_bio = author_info.get_text(separator='\\n', strip=True)\n",
    "author['Biography'] = author_bio\n",
    "author['Biography']"
   ]
  },
  {
   "cell_type": "code",
   "execution_count": 13,
   "metadata": {},
   "outputs": [
    {
     "data": {
      "text/plain": [
       "'4.26'"
      ]
     },
     "execution_count": 13,
     "metadata": {},
     "output_type": "execute_result"
    }
   ],
   "source": [
    "author_rate = doc_author.find('span', itemprop = 'ratingValue')\n",
    "author['Rating'] = author_rate.text.strip()\n",
    "author['Rating']"
   ]
  },
  {
   "cell_type": "code",
   "execution_count": 14,
   "metadata": {},
   "outputs": [
    {
     "data": {
      "text/plain": [
       "'15,759,480'"
      ]
     },
     "execution_count": 14,
     "metadata": {},
     "output_type": "execute_result"
    }
   ],
   "source": [
    "author_rateCount = doc_author.find('span', itemprop = 'ratingCount')\n",
    "author['Rating_count'] = author_rateCount.text.strip()\n",
    "author['Rating_count']"
   ]
  },
  {
   "cell_type": "code",
   "execution_count": 15,
   "metadata": {},
   "outputs": [
    {
     "data": {
      "text/plain": [
       "'529,942'"
      ]
     },
     "execution_count": 15,
     "metadata": {},
     "output_type": "execute_result"
    }
   ],
   "source": [
    "author_rvCount = doc_author.find('span', itemprop = 'reviewCount')\n",
    "author['Review_count'] = author_rvCount.text.strip()\n",
    "author['Review_count']"
   ]
  },
  {
   "cell_type": "code",
   "execution_count": 16,
   "metadata": {},
   "outputs": [],
   "source": [
    "author_data = doc_author.find('div', class_='hreview-aggregate')\n",
    "for i in author_data.find_all('span'):\n",
    "    check = i.get('itemprop')\n",
    "    if check == 'ratingValue':\n",
    "        author['Rating'] = i.text.strip()\n",
    "    elif check == 'ratingCount':\n",
    "        author['Rating_count'] = i.text.strip()\n",
    "    elif check == 'reviewCount':\n",
    "        author['Review_count'] = i.text.strip()\n",
    "        author_work = i.find_next('a')\n",
    "        author_book = author_work.get('href')\n",
    "        author['Works'] = author_work.text.strip().split()[0]"
   ]
  },
  {
   "cell_type": "code",
   "execution_count": 20,
   "metadata": {},
   "outputs": [],
   "source": [
    "author['Typical_series'] = []\n",
    "typicalSeries = doc_author.find_all('div', class_='seriesDesc')\n",
    "for series in typicalSeries:\n",
    "    series = series.find('a', class_='bookTitle')\n",
    "    series = series.text.strip()\n",
    "    author['Typical_series'].extend([series])"
   ]
  },
  {
   "cell_type": "code",
   "execution_count": 18,
   "metadata": {},
   "outputs": [
    {
     "data": {
      "text/plain": [
       "['Fiction', ' Science Fiction & Fantasy', ' Young Adult']"
      ]
     },
     "execution_count": 18,
     "metadata": {},
     "output_type": "execute_result"
    }
   ],
   "source": [
    "genres = author['Genre'].split(',')\n",
    "author['Genre'] = []\n",
    "for i in genres:\n",
    "    author['Genre'].extend([i])\n",
    "author['Genre']"
   ]
  },
  {
   "cell_type": "code",
   "execution_count": 21,
   "metadata": {},
   "outputs": [
    {
     "data": {
      "text/plain": [
       "{'Name': 'Suzanne Collins',\n",
       " 'Born': 'August 11, 1962',\n",
       " 'Died': None,\n",
       " 'Hometown': 'in  Hartford, Connecticut, The United States',\n",
       " 'Biography': 'Since 1991, Suzanne Collins has been busy writing for children’s television. She has worked on the staffs of several Nickelodeon shows, including the Emmy-nominated hit Clarissa Explains it All and The Mystery Files of Shelby Woo. For preschool viewers, she penned multiple stories for the Emmy-nominated Little Bear and Oswald. She also co-wrote the critically acclaimed Rankin/Bass Christmas special, Santa, Baby! Most recently she was the Head Writer for Scholastic Entertainment’s Clifford’s Puppy Days.\\nWhile working on a Kids WB show called Generation O! she met children’s author James Proimos, who talked her into giving children’s books a try.\\nThinking one',\n",
       " 'Image': 'https://images.gr-assets.com/authors/1630199330p5/153394.jpg',\n",
       " 'Genre': ['Fiction', ' Science Fiction & Fantasy', ' Young Adult'],\n",
       " 'Website': 'http://suzannecollinsbooks.com/',\n",
       " 'Influences': None,\n",
       " 'Rating': '4.26',\n",
       " 'Rating_count': '15,759,480',\n",
       " 'Review_count': '529,942',\n",
       " 'Works': '77',\n",
       " 'Typical_series': ['The Hunger Games',\n",
       "  'Underland Chronicles',\n",
       "  'The Hunger Games Japanese Split-Volume Edition']}"
      ]
     },
     "execution_count": 21,
     "metadata": {},
     "output_type": "execute_result"
    }
   ],
   "source": [
    "author"
   ]
  }
 ],
 "metadata": {
  "kernelspec": {
   "display_name": "Python 3",
   "language": "python",
   "name": "python3"
  },
  "language_info": {
   "codemirror_mode": {
    "name": "ipython",
    "version": 3
   },
   "file_extension": ".py",
   "mimetype": "text/x-python",
   "name": "python",
   "nbconvert_exporter": "python",
   "pygments_lexer": "ipython3",
   "version": "3.11.0"
  }
 },
 "nbformat": 4,
 "nbformat_minor": 2
}
